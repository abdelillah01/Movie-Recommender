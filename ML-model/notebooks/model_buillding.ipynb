{
 "cells": [
  {
   "cell_type": "code",
   "execution_count": null,
   "id": "6c89b71d",
   "metadata": {},
   "outputs": [
    {
     "ename": "ModuleNotFoundError",
     "evalue": "No module named 'recommender'",
     "output_type": "error",
     "traceback": [
      "\u001b[31m---------------------------------------------------------------------------\u001b[39m",
      "\u001b[31mModuleNotFoundError\u001b[39m                       Traceback (most recent call last)",
      "\u001b[36mCell\u001b[39m\u001b[36m \u001b[39m\u001b[32mIn[2]\u001b[39m\u001b[32m, line 3\u001b[39m\n\u001b[32m      1\u001b[39m \u001b[38;5;66;03m# model_building.ipynb\u001b[39;00m\n\u001b[32m----> \u001b[39m\u001b[32m3\u001b[39m \u001b[38;5;28;01mfrom\u001b[39;00m\u001b[38;5;250m \u001b[39m\u001b[34;01mrecommender\u001b[39;00m\u001b[34;01m.\u001b[39;00m\u001b[34;01mmodel_builder\u001b[39;00m\u001b[38;5;250m \u001b[39m\u001b[38;5;28;01mimport\u001b[39;00m build_model\n\u001b[32m      4\u001b[39m \u001b[38;5;28;01mfrom\u001b[39;00m\u001b[38;5;250m \u001b[39m\u001b[34;01mrecommender\u001b[39;00m\u001b[34;01m.\u001b[39;00m\u001b[34;01mrecommender\u001b[39;00m\u001b[38;5;250m \u001b[39m\u001b[38;5;28;01mimport\u001b[39;00m load_model, recommend\n",
      "\u001b[31mModuleNotFoundError\u001b[39m: No module named 'recommender'"
     ]
    }
   ],
   "source": [
    "# model_building.ipynb\n",
    "\n",
    "#from recommender.model_builder import build_model\n",
    "#from recommender.recommender import load_model, recommend\n"
   ]
  },
  {
   "cell_type": "code",
   "execution_count": null,
   "id": "ed024807",
   "metadata": {},
   "outputs": [],
   "source": [
    "# 1. Build and save model\n",
    " # model = build_model()\n",
    "\n",
    "# 2. Load it\n",
    " # model = load_model()"
   ]
  },
  {
   "cell_type": "code",
   "execution_count": null,
   "id": "da1b0ec3",
   "metadata": {},
   "outputs": [],
   "source": [
    "# 3. Try recommendations\n",
    " # sample_ids = [1, 50]  # replace with valid movieId(s)\n",
    "# recs = recommend(sample_ids, model, top_n=5)\n",
    "\n",
    " #for mid, title, score in recs:\n",
    "     # print(f\"{mid}\\t{title}\\t{score:.3f}\")"
   ]
  }
 ],
 "metadata": {
  "kernelspec": {
   "display_name": ".venv",
   "language": "python",
   "name": "python3"
  },
  "language_info": {
   "codemirror_mode": {
    "name": "ipython",
    "version": 3
   },
   "file_extension": ".py",
   "mimetype": "text/x-python",
   "name": "python",
   "nbconvert_exporter": "python",
   "pygments_lexer": "ipython3",
   "version": "3.13.5"
  }
 },
 "nbformat": 4,
 "nbformat_minor": 5
}
